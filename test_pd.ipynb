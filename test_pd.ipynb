{
 "cells": [
  {
   "cell_type": "code",
   "execution_count": 3,
   "metadata": {},
   "outputs": [
    {
     "name": "stdout",
     "output_type": "stream",
     "text": [
      "c:\\dev\\projects\\git\\i_ocr\\src\n"
     ]
    }
   ],
   "source": [
    "import os\n",
    "import glob\n",
    "current_working_dir=os.getcwd()\n",
    "print(current_working_dir)"
   ]
  },
  {
   "cell_type": "code",
   "execution_count": 11,
   "metadata": {},
   "outputs": [
    {
     "name": "stdout",
     "output_type": "stream",
     "text": [
      "c:\\dev\\projects\\git\\i_ocr\\src\\final_2023-07-31.csv\n"
     ]
    }
   ],
   "source": [
    "file_type=r'\\final*.csv'\n",
    "files=glob.glob(current_working_dir+file_type)\n",
    "print(files[0])\n"
   ]
  },
  {
   "cell_type": "code",
   "execution_count": 1,
   "metadata": {},
   "outputs": [
    {
     "name": "stderr",
     "output_type": "stream",
     "text": [
      "c:\\dev\\projects\\git\\i_ocr\\src\\venv\\lib\\site-packages\\neptune\\common\\warnings.py:62: NeptuneWarning: To avoid unintended consumption of logging hours during interactive sessions, the following monitoring options are disabled unless set to 'True' when initializing the run: 'capture_stdout', 'capture_stderr', and 'capture_hardware_metrics'.\n",
      "  warnings.warn(\n"
     ]
    },
    {
     "ename": "NeptuneMissingApiTokenException",
     "evalue": "\n\n----NeptuneMissingApiTokenException-------------------------------------------\n\nThe Neptune client couldn't find your API token.\n\nYou can get it here:\n    - https://app.neptune.ai/get_my_api_token\n\nThere are two options to add it:\n    - specify it in your code\n    - set an environment variable in your operating system.\n\nCODE\nPass the token to the init_run() function via the api_token argument:\n    neptune.init_run(project='WORKSPACE_NAME/PROJECT_NAME', api_token='YOUR_API_TOKEN')\n\nENVIRONMENT VARIABLE (Recommended option)\nor export or set an environment variable depending on your operating system:\n\n    Linux/Unix\n    In your terminal run:\n        export NEPTUNE_API_TOKEN=\"YOUR_API_TOKEN\"\n\n    Windows\n    In your CMD run:\n        set NEPTUNE_API_TOKEN=\"YOUR_API_TOKEN\"\n\nand skip the api_token argument of the init_run() function:\n    neptune.init_run(project='WORKSPACE_NAME/PROJECT_NAME')\n\nYou may also want to check the following docs pages:\n    - https://docs.neptune.ai/setup/setting_api_token/\n\nNeed help?-> https://docs.neptune.ai/getting_help\n",
     "output_type": "error",
     "traceback": [
      "\u001b[1;31m---------------------------------------------------------------------------\u001b[0m",
      "\u001b[1;31mNeptuneMissingApiTokenException\u001b[0m           Traceback (most recent call last)",
      "Cell \u001b[1;32mIn[1], line 3\u001b[0m\n\u001b[0;32m      1\u001b[0m \u001b[39mimport\u001b[39;00m \u001b[39mneptune\u001b[39;00m\n\u001b[1;32m----> 3\u001b[0m run \u001b[39m=\u001b[39m neptune\u001b[39m.\u001b[39;49minit_run()\n\u001b[0;32m      5\u001b[0m run[\u001b[39m\"\u001b[39m\u001b[39mparameters\u001b[39m\u001b[39m\"\u001b[39m] \u001b[39m=\u001b[39m params\n\u001b[0;32m      6\u001b[0m run[\u001b[39m\"\u001b[39m\u001b[39mdataset/train_version\u001b[39m\u001b[39m\"\u001b[39m]\u001b[39m.\u001b[39mtrack_files(\u001b[39m\"\u001b[39m\u001b[39ms3://datasets\u001b[39m\u001b[39m\"\u001b[39m)\n",
      "File \u001b[1;32mc:\\dev\\projects\\git\\i_ocr\\src\\venv\\lib\\site-packages\\neptune\\metadata_containers\\run.py:379\u001b[0m, in \u001b[0;36mRun.__init__\u001b[1;34m(self, with_id, project, api_token, custom_run_id, mode, name, description, tags, source_files, capture_stdout, capture_stderr, capture_hardware_metrics, fail_on_exception, monitoring_namespace, flush_period, proxies, capture_traceback, git_ref, dependencies, **kwargs)\u001b[0m\n\u001b[0;32m    376\u001b[0m \u001b[39mif\u001b[39;00m mode \u001b[39m==\u001b[39m Mode\u001b[39m.\u001b[39mOFFLINE \u001b[39mor\u001b[39;00m mode \u001b[39m==\u001b[39m Mode\u001b[39m.\u001b[39mDEBUG:\n\u001b[0;32m    377\u001b[0m     project \u001b[39m=\u001b[39m OFFLINE_PROJECT_QUALIFIED_NAME\n\u001b[1;32m--> 379\u001b[0m \u001b[39msuper\u001b[39;49m()\u001b[39m.\u001b[39;49m\u001b[39m__init__\u001b[39;49m(project\u001b[39m=\u001b[39;49mproject, api_token\u001b[39m=\u001b[39;49mapi_token, mode\u001b[39m=\u001b[39;49mmode, flush_period\u001b[39m=\u001b[39;49mflush_period, proxies\u001b[39m=\u001b[39;49mproxies)\n",
      "File \u001b[1;32mc:\\dev\\projects\\git\\i_ocr\\src\\venv\\lib\\site-packages\\neptune\\metadata_containers\\metadata_container.py:118\u001b[0m, in \u001b[0;36mMetadataContainer.__init__\u001b[1;34m(self, project, api_token, mode, flush_period, proxies)\u001b[0m\n\u001b[0;32m    115\u001b[0m \u001b[39mself\u001b[39m\u001b[39m.\u001b[39m_forking_state: \u001b[39mbool\u001b[39m \u001b[39m=\u001b[39m \u001b[39mFalse\u001b[39;00m\n\u001b[0;32m    116\u001b[0m \u001b[39mself\u001b[39m\u001b[39m.\u001b[39m_state: ContainerState \u001b[39m=\u001b[39m ContainerState\u001b[39m.\u001b[39mCREATED\n\u001b[1;32m--> 118\u001b[0m \u001b[39mself\u001b[39m\u001b[39m.\u001b[39m_backend: NeptuneBackend \u001b[39m=\u001b[39m get_backend(mode\u001b[39m=\u001b[39;49mmode, api_token\u001b[39m=\u001b[39;49mapi_token, proxies\u001b[39m=\u001b[39;49mproxies)\n\u001b[0;32m    120\u001b[0m \u001b[39mself\u001b[39m\u001b[39m.\u001b[39m_project_qualified_name: Optional[\u001b[39mstr\u001b[39m] \u001b[39m=\u001b[39m conform_optional(project, QualifiedName)\n\u001b[0;32m    121\u001b[0m \u001b[39mself\u001b[39m\u001b[39m.\u001b[39m_project_api_object: Project \u001b[39m=\u001b[39m project_name_lookup(\n\u001b[0;32m    122\u001b[0m     backend\u001b[39m=\u001b[39m\u001b[39mself\u001b[39m\u001b[39m.\u001b[39m_backend, name\u001b[39m=\u001b[39m\u001b[39mself\u001b[39m\u001b[39m.\u001b[39m_project_qualified_name\n\u001b[0;32m    123\u001b[0m )\n",
      "File \u001b[1;32mc:\\dev\\projects\\git\\i_ocr\\src\\venv\\lib\\site-packages\\neptune\\internal\\backends\\factory.py:31\u001b[0m, in \u001b[0;36mget_backend\u001b[1;34m(mode, api_token, proxies)\u001b[0m\n\u001b[0;32m     29\u001b[0m \u001b[39mdef\u001b[39;00m \u001b[39mget_backend\u001b[39m(mode: Mode, api_token: Optional[\u001b[39mstr\u001b[39m] \u001b[39m=\u001b[39m \u001b[39mNone\u001b[39;00m, proxies: Optional[\u001b[39mdict\u001b[39m] \u001b[39m=\u001b[39m \u001b[39mNone\u001b[39;00m) \u001b[39m-\u001b[39m\u001b[39m>\u001b[39m NeptuneBackend:\n\u001b[0;32m     30\u001b[0m     \u001b[39mif\u001b[39;00m mode \u001b[39m==\u001b[39m Mode\u001b[39m.\u001b[39mASYNC:\n\u001b[1;32m---> 31\u001b[0m         \u001b[39mreturn\u001b[39;00m HostedNeptuneBackend(credentials\u001b[39m=\u001b[39mCredentials\u001b[39m.\u001b[39;49mfrom_token(api_token\u001b[39m=\u001b[39;49mapi_token), proxies\u001b[39m=\u001b[39mproxies)\n\u001b[0;32m     32\u001b[0m     \u001b[39melif\u001b[39;00m mode \u001b[39m==\u001b[39m Mode\u001b[39m.\u001b[39mSYNC:\n\u001b[0;32m     33\u001b[0m         \u001b[39mreturn\u001b[39;00m HostedNeptuneBackend(credentials\u001b[39m=\u001b[39mCredentials\u001b[39m.\u001b[39mfrom_token(api_token\u001b[39m=\u001b[39mapi_token), proxies\u001b[39m=\u001b[39mproxies)\n",
      "File \u001b[1;32mc:\\dev\\projects\\git\\i_ocr\\src\\venv\\lib\\site-packages\\neptune\\internal\\credentials.py:49\u001b[0m, in \u001b[0;36mCredentials.from_token\u001b[1;34m(cls, api_token)\u001b[0m\n\u001b[0;32m     46\u001b[0m     api_token \u001b[39m=\u001b[39m ANONYMOUS_API_TOKEN_CONTENT\n\u001b[0;32m     48\u001b[0m \u001b[39mif\u001b[39;00m api_token \u001b[39mis\u001b[39;00m \u001b[39mNone\u001b[39;00m:\n\u001b[1;32m---> 49\u001b[0m     \u001b[39mraise\u001b[39;00m NeptuneMissingApiTokenException()\n\u001b[0;32m     51\u001b[0m api_token \u001b[39m=\u001b[39m api_token\u001b[39m.\u001b[39mstrip()\n\u001b[0;32m     52\u001b[0m token_dict \u001b[39m=\u001b[39m Credentials\u001b[39m.\u001b[39m_api_token_to_dict(api_token)\n",
      "\u001b[1;31mNeptuneMissingApiTokenException\u001b[0m: \n\n----NeptuneMissingApiTokenException-------------------------------------------\n\nThe Neptune client couldn't find your API token.\n\nYou can get it here:\n    - https://app.neptune.ai/get_my_api_token\n\nThere are two options to add it:\n    - specify it in your code\n    - set an environment variable in your operating system.\n\nCODE\nPass the token to the init_run() function via the api_token argument:\n    neptune.init_run(project='WORKSPACE_NAME/PROJECT_NAME', api_token='YOUR_API_TOKEN')\n\nENVIRONMENT VARIABLE (Recommended option)\nor export or set an environment variable depending on your operating system:\n\n    Linux/Unix\n    In your terminal run:\n        export NEPTUNE_API_TOKEN=\"YOUR_API_TOKEN\"\n\n    Windows\n    In your CMD run:\n        set NEPTUNE_API_TOKEN=\"YOUR_API_TOKEN\"\n\nand skip the api_token argument of the init_run() function:\n    neptune.init_run(project='WORKSPACE_NAME/PROJECT_NAME')\n\nYou may also want to check the following docs pages:\n    - https://docs.neptune.ai/setup/setting_api_token/\n\nNeed help?-> https://docs.neptune.ai/getting_help\n"
     ]
    }
   ],
   "source": [
    "import neptune\n",
    "\n",
    "run = neptune.init_run()\n",
    "\n",
    "run[\"parameters\"] = params\n",
    "run[\"dataset/train_version\"].track_files(\"s3://datasets\")\n",
    "\n",
    "def any_module_function_or_hook(run):\n",
    "    run[\"train/accuracy\"].append(acc)\n",
    "    run[\"valid/misclassified_images\"].append(img)\n",
    "    run[\"your/metadata/structure\"].append(any_metadata)"
   ]
  },
  {
   "cell_type": "code",
   "execution_count": null,
   "metadata": {},
   "outputs": [],
   "source": []
  }
 ],
 "metadata": {
  "kernelspec": {
   "display_name": "venv",
   "language": "python",
   "name": "python3"
  },
  "language_info": {
   "codemirror_mode": {
    "name": "ipython",
    "version": 3
   },
   "file_extension": ".py",
   "mimetype": "text/x-python",
   "name": "python",
   "nbconvert_exporter": "python",
   "pygments_lexer": "ipython3",
   "version": "3.10.6"
  },
  "orig_nbformat": 4
 },
 "nbformat": 4,
 "nbformat_minor": 2
}
